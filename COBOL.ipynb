{
 "cells": [
  {
   "cell_type": "markdown",
   "id": "9940c633-d976-4f98-8c9f-209487c3f86d",
   "metadata": {
    "slideshow": {
     "slide_type": "slide"
    },
    "tags": []
   },
   "source": [
    "# Looking at COBOL\n",
    "\n",
    "## From a Pythonic Perspective\n",
    "\n",
    "Steven F. Lott"
   ]
  },
  {
   "cell_type": "markdown",
   "id": "50170eac-3ca0-40b2-ac52-51bd72c583c5",
   "metadata": {
    "slideshow": {
     "slide_type": "slide"
    },
    "tags": []
   },
   "source": [
    "# Topics\n",
    "\n",
    "- What — exactly — is the problem?\n",
    "\n",
    "- What is the COBOL asset?\n",
    "\n",
    "- How hard is this to fix?\n",
    "\n",
    "- What can we do?"
   ]
  },
  {
   "cell_type": "markdown",
   "id": "d103bde0-412f-4a94-a5c3-358e3e91ea67",
   "metadata": {
    "slideshow": {
     "slide_type": "slide"
    },
    "tags": []
   },
   "source": [
    "# What is the problem?\n",
    "\n",
    "## Exactly"
   ]
  },
  {
   "cell_type": "markdown",
   "id": "8d796282-4ca5-443e-8774-6425e2ffc1b3",
   "metadata": {
    "slideshow": {
     "slide_type": "slide"
    },
    "tags": []
   },
   "source": [
    "# It's not that COBOL is bad\n",
    "\n",
    "- It is\n",
    "\n",
    "- But that's not the problem"
   ]
  },
  {
   "cell_type": "markdown",
   "id": "dabe3ec7-f147-47be-bc6e-975fb1fd5ca7",
   "metadata": {
    "slideshow": {
     "slide_type": "slide"
    },
    "tags": []
   },
   "source": [
    "# It's not the COBOL skills are rare\n",
    "\n",
    "- They are\n",
    "\n",
    "- But that's not the problem"
   ]
  },
  {
   "cell_type": "markdown",
   "id": "6a72e69a-eced-43c9-8655-890f3107045a",
   "metadata": {
    "slideshow": {
     "slide_type": "slide"
    },
    "tags": []
   },
   "source": [
    "# The problem is intrasigence\n",
    "\n",
    "## If it ain't broke don't fix it\n",
    "\n",
    "Keep The Lights On (KTLO)\n",
    "\n",
    "- Creates Tech Debt\n",
    "\n",
    "- Petrifies Tech Debt into a permanent feature of the enterprise"
   ]
  },
  {
   "cell_type": "markdown",
   "id": "a6a8b7da-83c0-432b-816f-c315a748b3fc",
   "metadata": {
    "slideshow": {
     "slide_type": "slide"
    },
    "tags": []
   },
   "source": [
    "# The COBOL Asset\n",
    "\n",
    "## What part is valuable?\n",
    "\n",
    "And what should we discard?"
   ]
  },
  {
   "cell_type": "markdown",
   "id": "c01f49a2-2214-4d1f-883a-0d100d837869",
   "metadata": {
    "slideshow": {
     "slide_type": "slide"
    },
    "tags": []
   },
   "source": [
    "# A Guiding Principle\n",
    "\n",
    "## Software Captures Knowledge\n",
    "\n",
    "All programming languagees are a Turing Complete\n",
    "\n",
    "COBOL ↦ Python\n",
    "\n",
    "More formally\n",
    "\n",
    "$$\n",
    "\\begin{align}\n",
    "C \\models A \\\\\n",
    "P \\models A\n",
    "\\end{align}\n",
    "$$\n",
    "\n",
    "For some underlying Algorithm defined by state changes, $A$."
   ]
  },
  {
   "cell_type": "markdown",
   "id": "102e7cc7-ea53-4e56-8c55-b4dc47a7df9b",
   "metadata": {
    "slideshow": {
     "slide_type": "slide"
    },
    "tags": []
   },
   "source": [
    "# COBOL and Knowledge\n",
    "\n",
    "- COBOL is a very simple language for knowledge capture\n",
    "\n",
    "- With some obscure and unpleasant features"
   ]
  },
  {
   "cell_type": "markdown",
   "id": "b0f88b5a-0b6e-45de-897a-0553e7939201",
   "metadata": {
    "slideshow": {
     "slide_type": "slide"
    },
    "tags": []
   },
   "source": [
    "# Mainframes\n",
    "\n",
    "- While we think of mainframes as BIG\n",
    "\n",
    "  - They weren't\n",
    "    \n",
    "- An app written 30+ years ago\n",
    "\n",
    "  - Target: 370/158 with 4Mb RAM and a 3.2Gb disk\n",
    "    \n",
    "  - <24bit address space\n",
    "\n",
    "- COBOL programs would easily run on your phone"
   ]
  },
  {
   "cell_type": "markdown",
   "id": "0d8b3eb1-9cd3-45bc-9f2a-2a5fade97ea7",
   "metadata": {
    "slideshow": {
     "slide_type": "slide"
    },
    "tags": []
   },
   "source": [
    "# Consequences\n",
    "\n",
    "- Software was a \"system\" of interconnected components\n",
    "\n",
    "  - 100's of programs\n",
    "  \n",
    "  - Each program a few hundred lines of code \n",
    "  \n",
    "  - A few dragged on to 1,000's\n",
    "  \n",
    "- A few central design patterns"
   ]
  },
  {
   "cell_type": "markdown",
   "id": "eef58e1f-08a5-484d-a692-b4c1bab55b7f",
   "metadata": {
    "slideshow": {
     "slide_type": "slide"
    },
    "tags": []
   },
   "source": [
    "# Design Patterns\n",
    "\n",
    "- Edit -- read and validate a batch of transactions\n",
    "\n",
    "- Update -- match-merge updating of master files from transactions\n",
    "\n",
    "- Report -- View the master files"
   ]
  },
  {
   "cell_type": "markdown",
   "id": "2986e68f-df18-4793-a020-471a36feedbc",
   "metadata": {
    "slideshow": {
     "slide_type": "slide"
    },
    "tags": []
   },
   "source": [
    "# Edit Programs\n",
    "\n",
    "- Read source records\n",
    "\n",
    "  - They were prepared manually\n",
    "\n",
    "- Check ranges, types, and internal consistency\n",
    "\n",
    "- Stage valid batches for update processing\n",
    "\n",
    "- Display details of errors in a batch so it can be repaired"
   ]
  },
  {
   "cell_type": "markdown",
   "id": "5822017a-858c-44ac-b1db-859bf9299825",
   "metadata": {
    "slideshow": {
     "slide_type": "slide"
    },
    "tags": []
   },
   "source": [
    "```python\n",
    "with source_path.open() as source_file, \\\n",
    "        good_path.open(“w”) as good_file, \\\n",
    "        bad_path.open(“w”) as bad_file:\n",
    "    for batch in batch_read(source):\n",
    "        if valid(batch):  # The interesting part\n",
    "            batch_write(good_file)\n",
    "        else:\n",
    "            batch_write(bad_file)\n",
    "```"
   ]
  },
  {
   "cell_type": "markdown",
   "id": "793d2773-68b7-4267-8aaa-112839f97f3c",
   "metadata": {
    "slideshow": {
     "slide_type": "slide"
    },
    "tags": []
   },
   "source": [
    "# COBOL code can be obscure\n",
    "\n",
    "In Python, we can make the interesting part stand out very clearly\n",
    "\n",
    "In COBOL, it can be hard to track down"
   ]
  },
  {
   "cell_type": "markdown",
   "id": "e6a4a33e-0266-4ac4-96e2-9af95f8098f0",
   "metadata": {
    "slideshow": {
     "slide_type": "slide"
    },
    "tags": []
   },
   "source": [
    "# Update Programs\n",
    "\n",
    "- Read edited, **sorted** transaction records\n",
    "\n",
    "- Match keys with **sorted** master file\n",
    "\n",
    "- Perform Add, Change, and Delete on Master File based on Transaction(s)\n",
    "\n",
    "- Write new master file (or rewrite records in place)"
   ]
  },
  {
   "cell_type": "markdown",
   "id": "9f1afad1-d44b-46c2-9ab2-eda70f9335e4",
   "metadata": {
    "slideshow": {
     "slide_type": "slide"
    },
    "tags": []
   },
   "source": [
    "```\n",
    "with xact_path.open() as xact_file, \n",
    "        old_path.open() as master_file, \n",
    "        new_path.open(“w”) as new_master_file:\n",
    "    master = master_read(master_file)\n",
    "    xact = xact_read(xact_file)\n",
    "    while master and xact:\n",
    "        if master.key < xact.key:\n",
    "            master_write(new_master_file, master)\n",
    "            master = master_read(master_file)\n",
    "        elif old_rec.key < xact_key:\n",
    "            xact = xact_read(xact_file)\n",
    "        else:\n",
    "            update(master, xact)  # The interesting part\n",
    "            xact = xact_read(xact_file)\n",
    "    while master:\n",
    "        master_write(new_master_file, master)\n",
    "        master = master_read(master_file)\n",
    "```"
   ]
  },
  {
   "cell_type": "markdown",
   "id": "2cd4140e-bbad-44c1-94d2-ee001e825e84",
   "metadata": {
    "slideshow": {
     "slide_type": "slide"
    },
    "tags": []
   },
   "source": [
    "# COBOL code will be obscure\n",
    "\n",
    "In Python, we can make the interesting part stand out very clearly\n",
    "\n",
    "In COBOL, it can be hard to track down\n",
    "\n",
    "Also. Not everyone had a clear understanding of the match-merge algorithm"
   ]
  },
  {
   "cell_type": "markdown",
   "id": "9f5b1a8c-4ceb-4785-a18d-1ad5e7993113",
   "metadata": {
    "slideshow": {
     "slide_type": "slide"
    },
    "tags": []
   },
   "source": [
    "# It's not so bad\n",
    "\n",
    "- The COBOL apps are (generally) straightforward\n",
    "  \n",
    "  - The design patterns are often clear\n",
    "\n",
    "- There are a **LOT** of them in an enterprise\n",
    "\n",
    "  - There may be only a dozen \"master file update\" apps\n",
    "  \n",
    "  - There may be several dozen edit variants\n",
    "  \n",
    "  - There will be several dozen file copy-with-filter apps\n",
    "  \n",
    "  - Hundreds and hundreds of reports -- **all** can be replaced with Pandas data frames"
   ]
  },
  {
   "cell_type": "markdown",
   "id": "6432f990-4dcd-4299-8955-4041eb7cdd41",
   "metadata": {
    "slideshow": {
     "slide_type": "slide"
    },
    "tags": []
   },
   "source": [
    "# Optimization \n",
    "\n",
    "## A Very Necessary Evil\n"
   ]
  },
  {
   "cell_type": "markdown",
   "id": "729b0e31-73e3-46bb-8093-81a4fdd6cf58",
   "metadata": {
    "slideshow": {
     "slide_type": "slide"
    },
    "tags": []
   },
   "source": [
    "# Remember 370/150\n",
    "\n",
    "- Less than 4MB RAM\n",
    "\n",
    "- Caching is essential\n",
    "\n",
    "- But\n",
    "\n",
    "  - COBOL has no associative store\n",
    "    \n",
    "  - It barely has arrays"
   ]
  },
  {
   "cell_type": "markdown",
   "id": "3840af00-b148-412e-80e2-7caa1e3a7090",
   "metadata": {
    "slideshow": {
     "slide_type": "slide"
    },
    "tags": []
   },
   "source": [
    "# The workaround for no `dict[str, str]`?\n",
    "\n",
    "- `list[tuple[str, str]]`\n",
    "\n",
    "```cobol\n",
    "      DATA DIVISION.\n",
    "      WORKING-STORAGE SECTION.\n",
    "      01  Some-Table.\n",
    "          05  Places-Used COMP-3.\n",
    "          05  Some-Record OCCURS 20 TIMES.\n",
    "              10  Key PIC XXX.\n",
    "              10  Value PIC X(32).\n",
    "```"
   ]
  },
  {
   "cell_type": "markdown",
   "id": "074815e9-3608-4e30-9d2a-a53ee9dc0b22",
   "metadata": {
    "slideshow": {
     "slide_type": "slide"
    },
    "tags": []
   },
   "source": [
    "# Not Kidding\n",
    "\n",
    "- All COBOL has are Python `array` (fixed size), `NamedTuple`, `str`, and `Decimal`\n",
    "\n",
    "- No `list`, `dict`, or `set`\n",
    "\n",
    "- No classes (more modern COBOL added OO features.)\n",
    "\n",
    "- No functions (generally)\n",
    "\n",
    "  - They're part of the language, but often overlooked."
   ]
  },
  {
   "cell_type": "markdown",
   "id": "35526567-6db1-4f9a-994d-21b0d1a44524",
   "metadata": {
    "slideshow": {
     "slide_type": "slide"
    },
    "tags": []
   },
   "source": [
    "# The Compounding Obscurities\n",
    "\n",
    "- GOTO\n",
    "\n",
    "  - Can make the code utterly opaque\n",
    "  \n",
    "- REDEFINES\n",
    "\n",
    "  - A \"free union\" of various data types\n",
    "  \n",
    "- ALTER\n",
    "\n",
    "  - Targets of GOTO can be changed at run-time"
   ]
  },
  {
   "cell_type": "markdown",
   "id": "683fa5fe-8341-4c63-91db-b1957203ee77",
   "metadata": {
    "slideshow": {
     "slide_type": "slide"
    },
    "tags": []
   },
   "source": [
    "# How hard is this to fix?\n",
    "\n",
    "## Setting hype aside"
   ]
  },
  {
   "cell_type": "markdown",
   "id": "5c687ca2-a5c7-4721-ae85-f88527436d45",
   "metadata": {
    "slideshow": {
     "slide_type": "slide"
    },
    "tags": []
   },
   "source": [
    "# Does COBOL Map to Python?\n",
    "\n",
    "-  In the abstract? Yes\n",
    "\n",
    "   - Turing Complete languages map to a Finite State Automaton\n",
    "  \n",
    "-  Pragmatically?\n",
    "\n",
    "   -  The states of a COBOL app may be **opaque**\n",
    "  \n",
    "      - One GOTO can make a real mess"
   ]
  },
  {
   "cell_type": "markdown",
   "id": "401f18fc-2497-4a9a-8e80-f99010852cba",
   "metadata": {
    "slideshow": {
     "slide_type": "slide"
    },
    "tags": []
   },
   "source": [
    "# Formally\n",
    "\n",
    "Assume $F(C)$ is the Finite State Automaton (FSA) for some COBOL program.\n",
    "\n",
    "The $P(F(C))$ -- A Python implementaion of the FSA -- will be utterly opaque\n",
    "\n",
    "**Knowledge Not Captured**\n",
    "\n",
    "If you've ever tried to read the output from yacc or lex, you know what this is"
   ]
  },
  {
   "cell_type": "markdown",
   "id": "a001759e-531d-4241-a0dd-c3c50cc3635e",
   "metadata": {
    "slideshow": {
     "slide_type": "slide"
    },
    "tags": []
   },
   "source": [
    "# More important still\n",
    "\n",
    "The COBOL optimizations -- caches\n",
    "\n",
    "- Called a \"lookup table\"\n",
    "\n",
    "Each COBOL dev created their own unique `dict[str, str]` implementation\n",
    "\n",
    "- A testament to the \"throw people at it\" school of management\n",
    "\n",
    "- When schedule matters most, quality doesn't matter at all\n",
    "\n",
    "A lot of ineffecient `list[tuple[str, str]]` processing"
   ]
  },
  {
   "cell_type": "markdown",
   "id": "9fcaa85d-d09c-4bf4-9bae-0e32fe264e60",
   "metadata": {
    "slideshow": {
     "slide_type": "slide"
    },
    "tags": []
   },
   "source": [
    "# Most important?\n",
    "\n",
    "The architecture issue:\n",
    "    \n",
    "- Special Cases, Exceptions\n",
    "\n",
    "Where did they live?\n",
    "\n",
    "- Everywhere \n",
    "\n",
    "- Copy-pasta programming is often rampant"
   ]
  },
  {
   "cell_type": "markdown",
   "id": "ff823b95-7235-4676-984c-815ee8d3e7e3",
   "metadata": {
    "slideshow": {
     "slide_type": "slide"
    },
    "tags": []
   },
   "source": [
    "# COBOL isn't *bad*\n",
    "\n",
    "- It has a Lots of Little Programs (LoLP) architecture\n",
    "\n",
    "- LoLP can exacerbate bad management choices\n",
    "\n",
    "  - Overwhelming details\n",
    "    \n",
    "  - Lots of redudant special-case IF statements\n",
    "\n",
    "    - With code rot -- they no longer match\n",
    "    \n",
    "- KTLO means latent bugs everywhere\n",
    "\n",
    "  - Some documented bugs are \"features\""
   ]
  },
  {
   "cell_type": "markdown",
   "id": "6f78fe42-2d17-4757-9e74-79ed2dc15ef2",
   "metadata": {
    "slideshow": {
     "slide_type": "slide"
    },
    "tags": []
   },
   "source": [
    "# What Can We Do?\n",
    "\n",
    "## It's difficult. But...\n"
   ]
  },
  {
   "cell_type": "markdown",
   "id": "760103f0-c96d-4060-a134-918f63c57922",
   "metadata": {
    "slideshow": {
     "slide_type": "slide"
    },
    "tags": []
   },
   "source": [
    "# Data is the most valuable thing\n",
    "\n",
    "## Preserve the data\n",
    "\n",
    "- Processing is secondary \n",
    "\n",
    "  - Save example files to create test scenarios\n",
    "    \n",
    "  - Spell out the test scenarion in Gherkin\n",
    "\n",
    "  - Then do Acceptance Test Drive Develment (ATDD) to rewrite the mainframe app\n",
    "  \n",
    "Python has an EBCDIC Codec -- it can read COBOL files directly"
   ]
  },
  {
   "cell_type": "markdown",
   "id": "be772250-8c92-4dd2-9950-568b84eb32f2",
   "metadata": {
    "slideshow": {
     "slide_type": "slide"
    },
    "tags": []
   },
   "source": [
    "# Pragmaticaly\n",
    "\n",
    "The data is an unholy mess\n",
    "\n",
    "- COBOL Redefines clauses\n",
    "  \n",
    "  - The data cannot \"simply\" be read\n",
    "  \n",
    "  - Code is required to disambiguate\n",
    "  \n",
    "- Endless special cases and exceptions"
   ]
  },
  {
   "cell_type": "markdown",
   "id": "47a2991b-259f-401d-ad61-5039196aaa1e",
   "metadata": {
    "slideshow": {
     "slide_type": "slide"
    },
    "tags": []
   },
   "source": [
    "# It may get worse\n",
    "\n",
    "COBOL Data Definition Entry (DDE) used in production code\n",
    "\n",
    "- May not match all records in the file\n",
    "\n",
    "Some records may be skipped \n",
    "\n",
    "- Filtering rules in multiple places\n",
    "\n",
    "- And possibly inconsistent"
   ]
  },
  {
   "cell_type": "markdown",
   "id": "1788642f-22b9-4f67-ad05-f4dff95eae69",
   "metadata": {
    "slideshow": {
     "slide_type": "slide"
    },
    "tags": []
   },
   "source": [
    "# A Path Forward\n",
    "\n",
    "1. Expose the COBOL source\n",
    "\n",
    "2. Expose the JCL that knit the apps together\n",
    "\n",
    "3. Work out the directed acyclic graph (DAG) of updates to master files\n",
    "\n",
    "4. Reason backwards from master file writes\n",
    "\n",
    "  - find map() transformations and filter() exclusions\n",
    "  \n",
    "  - find `REDEFINES` discrimination \n",
    "  \n",
    "  - find exceptions and special cases"
   ]
  },
  {
   "cell_type": "markdown",
   "id": "40faa755-61ef-4367-8a40-4c092b20b87a",
   "metadata": {
    "slideshow": {
     "slide_type": "slide"
    },
    "tags": []
   },
   "source": [
    "# Conclusion\n",
    "\n",
    "## COBOL code is a repository of enterprise knowledge\n",
    "\n",
    "## Capture the data\n",
    "\n",
    "## Rewrite the code into a modern language\n"
   ]
  }
 ],
 "metadata": {
  "kernelspec": {
   "display_name": "Python 3 (ipykernel)",
   "language": "python",
   "name": "python3"
  },
  "language_info": {
   "codemirror_mode": {
    "name": "ipython",
    "version": 3
   },
   "file_extension": ".py",
   "mimetype": "text/x-python",
   "name": "python",
   "nbconvert_exporter": "python",
   "pygments_lexer": "ipython3",
   "version": "3.10.0"
  }
 },
 "nbformat": 4,
 "nbformat_minor": 5
}
